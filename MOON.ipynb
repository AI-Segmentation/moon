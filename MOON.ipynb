{
 "cells": [
  {
   "cell_type": "markdown",
   "metadata": {},
   "source": [
    "# Hyunwoo Moon's Amazing Code"
   ]
  },
  {
   "cell_type": "markdown",
   "metadata": {},
   "source": [
    "## Import"
   ]
  },
  {
   "cell_type": "code",
   "execution_count": 1,
   "metadata": {},
   "outputs": [],
   "source": [
    "import os\n",
    "import cv2\n",
    "import pandas as pd\n",
    "import numpy as np\n",
    "import matplotlib.pyplot as plt\n",
    "\n",
    "import torch\n",
    "import torch.nn as nn\n",
    "from torch.utils.data import Dataset, DataLoader\n",
    "from torchvision import transforms\n",
    "import torchvision.models as models\n",
    "\n",
    "from tqdm import tqdm\n",
    "import albumentations as A\n",
    "from albumentations.pytorch import ToTensorV2\n",
    "\n",
    "import torchvision.models as models\n",
    "\n",
    "device = torch.device('cuda' if torch.cuda.is_available() else 'cpu')"
   ]
  },
  {
   "cell_type": "markdown",
   "metadata": {},
   "source": [
    "## Utils"
   ]
  },
  {
   "cell_type": "code",
   "execution_count": 2,
   "metadata": {},
   "outputs": [],
   "source": [
    "# RLE 디코딩 함수\n",
    "def rle_decode(mask_rle, shape):\n",
    "    s = mask_rle.split()\n",
    "    starts, lengths = [np.asarray(x, dtype=int) for x in (s[0:][::2], s[1:][::2])]\n",
    "    starts -= 1\n",
    "    ends = starts + lengths\n",
    "    img = np.zeros(shape[0]*shape[1], dtype=np.uint8)\n",
    "    for lo, hi in zip(starts, ends):\n",
    "        img[lo:hi] = 1\n",
    "    return img.reshape(shape)\n",
    "\n",
    "# RLE 인코딩 함수\n",
    "def rle_encode(mask):\n",
    "    pixels = mask.flatten()\n",
    "\n",
    "    pixels = np.concatenate([[0], pixels, [0]])\n",
    "    runs = np.where(pixels[1:] != pixels[:-1])[0] + 1\n",
    "    runs[1::2] -= runs[::2]\n",
    "\n",
    "    \n",
    "    # 픽셀값이 1,2,3인 픽셀 삭제\n",
    "    result = []\n",
    "    for i in range(1, len(runs), 2):  # 짝수번째 인덱스만 접근\n",
    "        if runs[i] not in [1, 2, 3]:\n",
    "            result.extend([runs[i-1], runs[i]])  # 해당 인덱스와 그 전 인덱스를 추가\n",
    "    \n",
    "    return ' '.join(str(x) for x in result)"
   ]
  },
  {
   "cell_type": "markdown",
   "metadata": {},
   "source": [
    "## Custom Dataset"
   ]
  },
  {
   "cell_type": "code",
   "execution_count": 3,
   "metadata": {},
   "outputs": [],
   "source": [
    "class SatelliteDataset(Dataset):\n",
    "    def __init__(self, csv_file, transform=None, infer=False):\n",
    "        self.data = pd.read_csv(csv_file)\n",
    "        self.transform = transform\n",
    "        self.infer = infer\n",
    "\n",
    "    def __len__(self):\n",
    "        return len(self.data)\n",
    "\n",
    "    def __getitem__(self, idx):\n",
    "        img_path = self.data.iloc[idx, 1]\n",
    "        image = cv2.imread(img_path)\n",
    "        image = cv2.cvtColor(image, cv2.COLOR_BGR2RGB)\n",
    "        \n",
    "        if self.infer:\n",
    "            if self.transform:\n",
    "                image = self.transform(image=image)['image']\n",
    "            return image\n",
    "\n",
    "        mask_rle = self.data.iloc[idx, 2]\n",
    "        mask = rle_decode(mask_rle, (image.shape[0], image.shape[1]))\n",
    "\n",
    "        if self.transform:\n",
    "            augmented = self.transform(image=image, mask=mask)\n",
    "            image = augmented['image']\n",
    "            mask = augmented['mask']\n",
    "\n",
    "        return image, mask"
   ]
  },
  {
   "cell_type": "markdown",
   "metadata": {},
   "source": [
    "## Data Loader"
   ]
  },
  {
   "cell_type": "code",
   "execution_count": 4,
   "metadata": {},
   "outputs": [],
   "source": [
    "transform = A.Compose(\n",
    "    [\n",
    "        # 이미지 크기 조정\n",
    "        A.Resize(224, 224),\n",
    "\n",
    "        # 이미지 품질 개선을 위한 전처리\n",
    "        A.OneOf([\n",
    "            # 이미지 날카로움 향상\n",
    "            A.Sharpen(alpha=(0.2, 0.5), lightness=(0.5, 1.0), always_apply=True),\n",
    "\n",
    "            # 가우시안 블러\n",
    "            A.GaussianBlur(blur_limit=(3, 7), always_apply=True)\n",
    "        ], p=0.5),\n",
    "\n",
    "        # 명암 대비 조정과 밝기 조절\n",
    "        A.RandomBrightnessContrast(brightness_limit=(-0.2, 0.2), contrast_limit=(-0.2, 0.2), always_apply=True),\n",
    "\n",
    "        # 색감 조정\n",
    "        A.ColorJitter(brightness=0.1, contrast=0.1, saturation=0.1, hue=0.1, always_apply=True),\n",
    "\n",
    "        # 이미지를 텐서로 변환\n",
    "        ToTensorV2()\n",
    "    ]\n",
    ")\n",
    "\n",
    "dataset = SatelliteDataset(csv_file='./train.csv', transform=transform)\n",
    "dataloader = DataLoader(dataset, batch_size=32, shuffle=True, num_workers=8)"
   ]
  },
  {
   "cell_type": "markdown",
   "metadata": {},
   "source": [
    "## Define Model"
   ]
  },
  {
   "cell_type": "code",
   "execution_count": 5,
   "metadata": {},
   "outputs": [],
   "source": [
    "# U-Net의 기본 구성 요소인 Double Convolution Block을 정의합니다.\n",
    "def double_conv(in_channels, out_channels):\n",
    "    return nn.Sequential(\n",
    "        nn.Conv2d(in_channels, out_channels, 3, padding=1),\n",
    "        nn.ReLU(inplace=True),\n",
    "        nn.Conv2d(out_channels, out_channels, 3, padding=1),\n",
    "        nn.ReLU(inplace=True)\n",
    "    )\n",
    "\n",
    "# 간단한 U-Net 모델 정의\n",
    "class UNet(nn.Module):\n",
    "    def __init__(self):\n",
    "        super(UNet, self).__init__()\n",
    "        self.dconv_down1 = double_conv(3, 64)\n",
    "        self.dconv_down2 = double_conv(64, 128)\n",
    "        self.dconv_down3 = double_conv(128, 256)\n",
    "        self.dconv_down4 = double_conv(256, 512)\n",
    "\n",
    "        self.maxpool = nn.MaxPool2d(2)\n",
    "        self.upsample = nn.Upsample(scale_factor=2, mode='bilinear', align_corners=True)        \n",
    "\n",
    "        self.dconv_up3 = double_conv(256 + 512, 256)\n",
    "        self.dconv_up2 = double_conv(128 + 256, 128)\n",
    "        self.dconv_up1 = double_conv(128 + 64, 64)\n",
    "\n",
    "        self.conv_last = nn.Conv2d(64, 1, 1)\n",
    "\n",
    "    def forward(self, x):\n",
    "        conv1 = self.dconv_down1(x)\n",
    "        x = self.maxpool(conv1)\n",
    "\n",
    "        conv2 = self.dconv_down2(x)\n",
    "        x = self.maxpool(conv2)\n",
    "        \n",
    "        conv3 = self.dconv_down3(x)\n",
    "        x = self.maxpool(conv3)   \n",
    "\n",
    "        x = self.dconv_down4(x)\n",
    "\n",
    "        x = self.upsample(x)        \n",
    "        x = torch.cat([x, conv3], dim=1)\n",
    "\n",
    "        x = self.dconv_up3(x)\n",
    "        x = self.upsample(x)        \n",
    "        x = torch.cat([x, conv2], dim=1)       \n",
    "\n",
    "        x = self.dconv_up2(x)\n",
    "        x = self.upsample(x)        \n",
    "        x = torch.cat([x, conv1], dim=1)   \n",
    "\n",
    "        x = self.dconv_up1(x)\n",
    "\n",
    "        out = self.conv_last(x)\n",
    "\n",
    "        return out\n",
    "\n",
    "# 깊은 U-Net 모델 정의\n",
    "class DeepUNet(nn.Module):\n",
    "    def __init__(self):\n",
    "        super(DeepUNet, self).__init__()\n",
    "        self.dconv_down1 = double_conv(3, 64)\n",
    "        self.dconv_down2 = double_conv(64, 128)\n",
    "        self.dconv_down3 = double_conv(128, 256)\n",
    "        self.dconv_down4 = double_conv(256, 512)\n",
    "        self.dconv_down5 = double_conv(512, 1024)\n",
    "\n",
    "        self.maxpool = nn.MaxPool2d(2)\n",
    "        self.upsample = nn.Upsample(scale_factor=2, mode='bilinear', align_corners=True)        \n",
    "\n",
    "        self.dconv_up4 = double_conv(1024 + 512, 512)\n",
    "        self.dconv_up3 = double_conv(512 + 256, 256)\n",
    "        self.dconv_up2 = double_conv(256 + 128, 128)\n",
    "        self.dconv_up1 = double_conv(128 + 64, 64)\n",
    "\n",
    "        self.conv_last = nn.Conv2d(64, 1, 1)\n",
    "\n",
    "    def forward(self, x):\n",
    "        conv1 = self.dconv_down1(x)\n",
    "        x = self.maxpool(conv1)\n",
    "\n",
    "        conv2 = self.dconv_down2(x)\n",
    "        x = self.maxpool(conv2)\n",
    "        \n",
    "        conv3 = self.dconv_down3(x)\n",
    "        x = self.maxpool(conv3)   \n",
    "\n",
    "        conv4 = self.dconv_down4(x)\n",
    "        x = self.maxpool(conv4)\n",
    "\n",
    "        x = self.dconv_down5(x)\n",
    "\n",
    "        x = self.upsample(x)        \n",
    "        x = torch.cat([x, conv4], dim=1)\n",
    "\n",
    "        x = self.dconv_up4(x)\n",
    "        x = self.upsample(x)        \n",
    "        x = torch.cat([x, conv3], dim=1)\n",
    "\n",
    "        x = self.dconv_up3(x)\n",
    "        x = self.upsample(x)        \n",
    "        x = torch.cat([x, conv2], dim=1)       \n",
    "\n",
    "        x = self.dconv_up2(x)\n",
    "        x = self.upsample(x)        \n",
    "        x = torch.cat([x, conv1], dim=1)   \n",
    "\n",
    "        x = self.dconv_up1(x)\n",
    "\n",
    "        out = self.conv_last(x)\n",
    "\n",
    "        return out\n"
   ]
  },
  {
   "cell_type": "markdown",
   "metadata": {},
   "source": [
    "## Select Model"
   ]
  },
  {
   "cell_type": "code",
   "execution_count": 6,
   "metadata": {},
   "outputs": [],
   "source": [
    "# UNet / DeepUNet\n",
    "select_model = 'UNet'    # 사용할 모델 선택"
   ]
  },
  {
   "cell_type": "markdown",
   "metadata": {},
   "source": [
    "## Select Mode"
   ]
  },
  {
   "cell_type": "code",
   "execution_count": 7,
   "metadata": {},
   "outputs": [],
   "source": [
    "# Nothing : -1 / Training : 0 / Inference : 1 / Traing & Inference : 2\n",
    "mode = 2"
   ]
  },
  {
   "cell_type": "markdown",
   "metadata": {},
   "source": [
    "## Model Train"
   ]
  },
  {
   "cell_type": "code",
   "execution_count": null,
   "metadata": {},
   "outputs": [
    {
     "name": "stderr",
     "output_type": "stream",
     "text": [
      "100%|██████████| 224/224 [01:18<00:00,  2.85it/s]\n",
      "  0%|          | 0/224 [00:00<?, ?it/s]"
     ]
    },
    {
     "name": "stdout",
     "output_type": "stream",
     "text": [
      "Epoch 1, Loss: 0.23340197991845862\n"
     ]
    },
    {
     "name": "stderr",
     "output_type": "stream",
     "text": [
      "100%|██████████| 224/224 [01:17<00:00,  2.87it/s]\n",
      "  0%|          | 0/224 [00:00<?, ?it/s]"
     ]
    },
    {
     "name": "stdout",
     "output_type": "stream",
     "text": [
      "Epoch 2, Loss: 0.16474659581269538\n"
     ]
    },
    {
     "name": "stderr",
     "output_type": "stream",
     "text": [
      "100%|██████████| 224/224 [01:17<00:00,  2.91it/s]\n",
      "  0%|          | 0/224 [00:00<?, ?it/s]"
     ]
    },
    {
     "name": "stdout",
     "output_type": "stream",
     "text": [
      "Epoch 3, Loss: 0.14530851259561522\n"
     ]
    },
    {
     "name": "stderr",
     "output_type": "stream",
     "text": [
      "100%|██████████| 224/224 [01:16<00:00,  2.92it/s]\n",
      "  0%|          | 0/224 [00:00<?, ?it/s]"
     ]
    },
    {
     "name": "stdout",
     "output_type": "stream",
     "text": [
      "Epoch 4, Loss: 0.1308289392452155\n"
     ]
    },
    {
     "name": "stderr",
     "output_type": "stream",
     "text": [
      "100%|██████████| 224/224 [01:16<00:00,  2.93it/s]\n",
      "  0%|          | 0/224 [00:00<?, ?it/s]"
     ]
    },
    {
     "name": "stdout",
     "output_type": "stream",
     "text": [
      "Epoch 5, Loss: 0.12259695402878736\n"
     ]
    },
    {
     "name": "stderr",
     "output_type": "stream",
     "text": [
      "100%|██████████| 224/224 [01:16<00:00,  2.92it/s]\n",
      "  0%|          | 0/224 [00:00<?, ?it/s]"
     ]
    },
    {
     "name": "stdout",
     "output_type": "stream",
     "text": [
      "Epoch 6, Loss: 0.11522312841511198\n"
     ]
    },
    {
     "name": "stderr",
     "output_type": "stream",
     "text": [
      " 13%|█▎        | 30/224 [00:11<01:05,  2.97it/s]"
     ]
    }
   ],
   "source": [
    "if mode in [0,2]:\n",
    "    # model 초기화\n",
    "    if select_model == 'UNet':\n",
    "        model = UNet().to(device)\n",
    "    elif select_model == 'DeepUNet':\n",
    "        model = DeepUNet().to(device)\n",
    "\n",
    "    # loss function과 optimizer 정의\n",
    "    criterion = torch.nn.BCEWithLogitsLoss()\n",
    "    optimizer = torch.optim.Adam(model.parameters(), lr=0.001)\n",
    "\n",
    "    # 최적 모델 저장을 위한 변수 초기화\n",
    "    best_val_loss = 1  # 최저 손실값을 저장할 변수\n",
    "    patience = 1  # 성능이 개선되지 않을 때 학습 종료 기다리는 횟수\n",
    "\n",
    "    # training loop\n",
    "    for epoch in range(30):  # 최대 30에폭 동안 학습\n",
    "        model.train()\n",
    "        epoch_loss = 0\n",
    "        for images, masks in tqdm(dataloader):\n",
    "            images = images.float().to(device)\n",
    "            masks = masks.float().to(device)\n",
    "\n",
    "            optimizer.zero_grad()\n",
    "            outputs = model(images)\n",
    "            loss = criterion(outputs, masks.unsqueeze(1))\n",
    "            loss.backward()\n",
    "            optimizer.step()\n",
    "\n",
    "            epoch_loss += loss.item()\n",
    "\n",
    "        print(f'Epoch {epoch+1}, Loss: {epoch_loss/len(dataloader)}')\n",
    "\n",
    "        # 유의미한 성능 개선이 있을 경우\n",
    "        if best_val_loss - epoch_loss/len(dataloader) > 0.0001:   \n",
    "            patience = 1\n",
    "            best_val_loss = epoch_loss/len(dataloader)    # 최상의 Loss값 갱신\n",
    "            torch.save(model, f'./model(' + select_model + ').pt')   # 최적의 모델 갱신\n",
    "\n",
    "        # 미미한 성능 개선이 있을 경우 혹은 성능 개선이 없을 경우    \n",
    "        else:\n",
    "            patience = patience - 1 \n",
    "            # 미미한 성능 개선이 있을 경우\n",
    "            if (best_val_loss - epoch_loss/len(dataloader) <= 0.0001) and (best_val_loss - epoch_loss/len(dataloader) > 0):\n",
    "                best_val_loss = epoch_loss/len(dataloader)    # 최상의 Loss값 갱신\n",
    "                torch.save(model, f'./model(' + select_model + ').pt')   # 최적의 모델 갱신\n",
    "            # 유의미한 성능 개선 2번 연속 없을 경우 학습 종료\n",
    "            if patience < 0:\n",
    "                break\n",
    "\n",
    "    print('Training is Ended!! Best Loss: ' + str(best_val_loss))\n"
   ]
  },
  {
   "cell_type": "markdown",
   "metadata": {},
   "source": [
    "## Inference"
   ]
  },
  {
   "cell_type": "code",
   "execution_count": null,
   "metadata": {},
   "outputs": [],
   "source": [
    "test_dataset = SatelliteDataset(csv_file='./test.csv', transform=transform, infer=True)\n",
    "test_dataloader = DataLoader(test_dataset, batch_size=16, shuffle=False, num_workers=4)"
   ]
  },
  {
   "cell_type": "code",
   "execution_count": null,
   "metadata": {},
   "outputs": [],
   "source": [
    "if mode in [1,2]:\n",
    "    model = torch.load('model(' + select_model + ').pt')\n",
    "    print('Inference by model(' + select_model + ').pt')\n",
    "\n",
    "    threshold = 0.5   # 임계값 / Original Threshold = 0.35\n",
    "\n",
    "    with torch.no_grad():\n",
    "        model.eval()\n",
    "        result = []\n",
    "        for images in tqdm(test_dataloader):\n",
    "            images = images.float().to(device)\n",
    "\n",
    "            outputs = model(images)\n",
    "            masks = torch.sigmoid(outputs).cpu().numpy()\n",
    "            masks = np.squeeze(masks, axis=1)\n",
    "            masks = (masks > threshold).astype(np.uint8)\n",
    "\n",
    "            for i in range(len(images)):\n",
    "                mask_rle = rle_encode(masks[i])\n",
    "                if mask_rle == '': # 예측된 건물 픽셀이 아예 없는 경우 -1\n",
    "                    result.append(-1)\n",
    "                else:\n",
    "                    result.append(mask_rle)"
   ]
  },
  {
   "cell_type": "markdown",
   "metadata": {},
   "source": [
    "## Submission"
   ]
  },
  {
   "cell_type": "code",
   "execution_count": null,
   "metadata": {},
   "outputs": [],
   "source": [
    "if mode in [1,2]:\n",
    "    submit = pd.read_csv('./sample_submission.csv')\n",
    "    submit['mask_rle'] = result\n",
    "    \n",
    "    temp = './submit(' + select_model + ' ' + str(threshold) + ').csv'\n",
    "    submit.to_csv(temp, index=False)"
   ]
  },
  {
   "cell_type": "code",
   "execution_count": null,
   "metadata": {},
   "outputs": [],
   "source": [
    "#temp = './submit(' + select_model + ' ' + str(threshold) + ').csv'\n",
    "#submit.to_csv(temp, index=False)"
   ]
  },
  {
   "cell_type": "markdown",
   "metadata": {},
   "source": [
    "## Visualization"
   ]
  },
  {
   "cell_type": "code",
   "execution_count": null,
   "metadata": {},
   "outputs": [],
   "source": [
    "def visual(image_idx, submit_csv):\n",
    "    # CSV 파일 읽기\n",
    "    df = pd.read_csv(submit_csv, header=None)\n",
    "\n",
    "    # 이미지 파일 이름과 마스크 정보 파싱\n",
    "    image_names = df[0].values\n",
    "    mask_info = df[1].values\n",
    "\n",
    "    image_name = image_names[image_idx + 1]\n",
    "    mask_str = mask_info[image_idx + 1]\n",
    "    print(image_names[image_idx + 1])\n",
    "\n",
    "    # 이미지 파일과 마스크 정보 출력\n",
    "    image = cv2.imread('./test_img/' + image_name + '.png')\n",
    "    mask_decoded = rle_decode(mask_str, shape=(224, 224))\n",
    "\n",
    "    # 시각화\n",
    "    plt.figure(figsize=(10, 5))\n",
    "    plt.subplot(1, 2, 1)\n",
    "    plt.imshow(cv2.cvtColor(image, cv2.COLOR_BGR2RGB))\n",
    "    plt.title('Original ' + image_name)\n",
    "    plt.subplot(1, 2, 2)\n",
    "\n",
    "    # 디코딩된 값을 이미지 위에 표시\n",
    "    plt.imshow(cv2.cvtColor(image, cv2.COLOR_BGR2RGB))\n",
    "    plt.imshow(mask_decoded, cmap='jet', alpha=0.7)  # alpha 값을 조정하여 투명도 조절\n",
    "    plt.title('Decoded ' + image_name)\n",
    "    plt.show()\n",
    "\n",
    "submit_csv = 'submit(DeepUNet 0.45).csv'     \n",
    "    \n",
    "for i in range(0, 101):\n",
    "    print('< ' + submit_csv + ' >\\n')\n",
    "    visual(i, submit_csv)"
   ]
  },
  {
   "cell_type": "code",
   "execution_count": null,
   "metadata": {},
   "outputs": [],
   "source": []
  },
  {
   "cell_type": "code",
   "execution_count": null,
   "metadata": {},
   "outputs": [],
   "source": []
  }
 ],
 "metadata": {
  "kernelspec": {
   "display_name": "Python 3",
   "language": "python",
   "name": "python3"
  },
  "language_info": {
   "codemirror_mode": {
    "name": "ipython",
    "version": 3
   },
   "file_extension": ".py",
   "mimetype": "text/x-python",
   "name": "python",
   "nbconvert_exporter": "python",
   "pygments_lexer": "ipython3",
   "version": "3.7.6"
  }
 },
 "nbformat": 4,
 "nbformat_minor": 1
}
